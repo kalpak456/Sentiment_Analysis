{
  "nbformat": 4,
  "nbformat_minor": 0,
  "metadata": {
    "colab": {
      "name": "Sentiment_Analysis.ipynb",
      "provenance": [],
      "collapsed_sections": [],
      "include_colab_link": true
    },
    "kernelspec": {
      "name": "python3",
      "display_name": "Python 3"
    }
  },
  "cells": [
    {
      "cell_type": "markdown",
      "metadata": {
        "id": "view-in-github",
        "colab_type": "text"
      },
      "source": [
        "<a href=\"https://colab.research.google.com/github/kalpak456/Sentiment_Analysis/blob/master/Sentiment_Analysis.ipynb\" target=\"_parent\"><img src=\"https://colab.research.google.com/assets/colab-badge.svg\" alt=\"Open In Colab\"/></a>"
      ]
    },
    {
      "cell_type": "code",
      "metadata": {
        "id": "eNNc9oJvKgFd",
        "colab_type": "code",
        "colab": {}
      },
      "source": [
        "#pip install newspaper3k"
      ],
      "execution_count": 0,
      "outputs": []
    },
    {
      "cell_type": "code",
      "metadata": {
        "id": "AAtB7FhQMEZn",
        "colab_type": "code",
        "colab": {}
      },
      "source": [
        "from textblob import TextBlob\n",
        "import nltk\n",
        "from newspaper import Article"
      ],
      "execution_count": 0,
      "outputs": []
    },
    {
      "cell_type": "code",
      "metadata": {
        "id": "oIS9-Am4McRd",
        "colab_type": "code",
        "colab": {}
      },
      "source": [
        "url = 'https://greatergood.berkeley.edu/article/item/what_makes_positive_content_go_viral'\n",
        "article = Article(url)"
      ],
      "execution_count": 0,
      "outputs": []
    },
    {
      "cell_type": "code",
      "metadata": {
        "id": "Vj3bjQM4ODJS",
        "colab_type": "code",
        "colab": {
          "base_uri": "https://localhost:8080/",
          "height": 50
        },
        "outputId": "41d5e340-9b31-4100-ecb0-43d80482295f"
      },
      "source": [
        "article.download()\n",
        "article.parse()\n",
        "nltk.download('punkt')\n",
        "article.nlp()"
      ],
      "execution_count": 27,
      "outputs": [
        {
          "output_type": "stream",
          "text": [
            "[nltk_data] Downloading package punkt to /root/nltk_data...\n",
            "[nltk_data]   Package punkt is already up-to-date!\n"
          ],
          "name": "stdout"
        }
      ]
    },
    {
      "cell_type": "code",
      "metadata": {
        "id": "cNoVU2EKPMas",
        "colab_type": "code",
        "colab": {
          "base_uri": "https://localhost:8080/",
          "height": 120
        },
        "outputId": "0f254db5-663f-48d5-9697-6474e718d3d3"
      },
      "source": [
        "text = article.summary\n",
        "print(text)"
      ],
      "execution_count": 28,
      "outputs": [
        {
          "output_type": "stream",
          "text": [
            "When videos go “viral,” they quickly get a lot of views on the internet, often through rapid user sharing on social media.\n",
            "The content of those videos varies a great deal, and they can be a mixture of user-generated content or carefully planned advertising.\n",
            "Research shows that feeling inspired has a direct impact on our well-being, which makes it an important experience to seek out for those striving to live a fulfilled life.\n",
            "These findings are interesting for content creators looking to create “viral” content and consumers alike.\n",
            "It is up to us to jump onto the negative or positive bandwagon of viral media.\n"
          ],
          "name": "stdout"
        }
      ]
    },
    {
      "cell_type": "code",
      "metadata": {
        "id": "2VgVJDvHQzos",
        "colab_type": "code",
        "colab": {
          "base_uri": "https://localhost:8080/",
          "height": 33
        },
        "outputId": "f050e5ca-7eee-4011-8aac-d63f1a47a579"
      },
      "source": [
        "obj = TextBlob(text)\n",
        "sent = obj.sentiment.polarity\n",
        "print(sent)"
      ],
      "execution_count": 29,
      "outputs": [
        {
          "output_type": "stream",
          "text": [
            "0.21303030303030304\n"
          ],
          "name": "stdout"
        }
      ]
    },
    {
      "cell_type": "code",
      "metadata": {
        "id": "3Ik3w_F_ROSL",
        "colab_type": "code",
        "colab": {
          "base_uri": "https://localhost:8080/",
          "height": 33
        },
        "outputId": "649e0bc7-8d49-446b-c866-3f9c94074c7c"
      },
      "source": [
        "if sentiment==0:\n",
        "  print('Neutral')\n",
        "elif sentiment>0:\n",
        "  print('Positive')\n",
        "else:    \n",
        "  print('Negative')"
      ],
      "execution_count": 30,
      "outputs": [
        {
          "output_type": "stream",
          "text": [
            "Neutral\n"
          ],
          "name": "stdout"
        }
      ]
    }
  ]
}